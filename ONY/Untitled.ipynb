{
 "cells": [
  {
   "cell_type": "code",
   "execution_count": 68,
   "metadata": {},
   "outputs": [],
   "source": [
    "import sqlite3\n",
    "import wikipedia"
   ]
  },
  {
   "cell_type": "code",
   "execution_count": null,
   "metadata": {},
   "outputs": [],
   "source": []
  },
  {
   "cell_type": "code",
   "execution_count": 69,
   "metadata": {},
   "outputs": [],
   "source": [
    "conn = sqlite3.connect('QandA.db')"
   ]
  },
  {
   "cell_type": "code",
   "execution_count": 70,
   "metadata": {},
   "outputs": [],
   "source": [
    "def cleanText(string):\n",
    "    string = string.replace('?','')\n",
    "    string = string.replace('??','')\n",
    "    string = string.replace('???','')\n",
    "    string = string.replace('????','')\n",
    "    string = string.replace('.','')\n",
    "    string = string.replace(':','')\n",
    "    string = string.replace(';','')\n",
    "    string = string.replace('/','')\n",
    "    string = string.replace('\\'','')\n",
    "    string = string.replace('  ',' ')\n",
    "    string = string.replace('   ',' ')\n",
    "    string = string.replace('.','')\n",
    "    string = string.replace('..','')\n",
    "    string = string.replace('...','')\n",
    "    string = string.replace('....','')\n",
    "    string = string.replace('-','')\n",
    "    string = string.replace('_','')\n",
    "    string = string.lower()\n",
    "    return string"
   ]
  },
  {
   "cell_type": "code",
   "execution_count": 88,
   "metadata": {},
   "outputs": [],
   "source": [
    "def searchDB(ques):\n",
    "    \n",
    "    cur = conn.cursor()\n",
    "    #rows = cur.execute(\"SELECT name FROM sqlite_master WHERE type = 'table' order by name\")\n",
    "    rows = cur.execute(\"SELECT * FROM questions\")\n",
    "    #rows = cur.execute(\"SELECT * FROM questions WHERE question like'\"+ques+\"'\")\n",
    "    haha = rows.fetchall()\n",
    "    string = '-1';\n",
    "    for row in rows:\n",
    "        string = row[1]\n",
    "    return haha"
   ]
  },
  {
   "cell_type": "code",
   "execution_count": 72,
   "metadata": {},
   "outputs": [],
   "source": [
    "def getList(query):\n",
    "    return wikipedia.search(query)"
   ]
  },
  {
   "cell_type": "code",
   "execution_count": 73,
   "metadata": {},
   "outputs": [],
   "source": [
    "def searchWIKI(word):\n",
    "    lst = getList(word)\n",
    "    print('are you looking for one of this topics?')\n",
    "    for i in range(len(lst)):\n",
    "        print(str(i+1)+\". \"+lst[i])\n",
    "    print('\\n\\n\\n\\n')\n",
    "    print('printing information for: '+lst[0])\n",
    "    print('=======================================')\n",
    "    page = wikipedia.page(lst[0])\n",
    "    lines = page.content.split('.')\n",
    "    for line in range(10):\n",
    "        print(lines[line],end='.')"
   ]
  },
  {
   "cell_type": "code",
   "execution_count": 74,
   "metadata": {},
   "outputs": [],
   "source": [
    "def main(word):\n",
    "    word = cleanText(word)\n",
    "    if word[0:4] == 'wiki':\n",
    "        try:\n",
    "            ans = searchWIKI(word[5:])\n",
    "            return ans\n",
    "        except:\n",
    "            return \"There was an error trying to parse the output.\"\n",
    "    ans = searchDB(word)\n",
    "    if ans == '-1':\n",
    "        ans = \"I don't know the answer. Sorry.\"\n",
    "    return ans"
   ]
  },
  {
   "cell_type": "code",
   "execution_count": null,
   "metadata": {},
   "outputs": [],
   "source": []
  },
  {
   "cell_type": "code",
   "execution_count": 89,
   "metadata": {},
   "outputs": [
    {
     "data": {
      "text/plain": [
       "[]"
      ]
     },
     "execution_count": 89,
     "metadata": {},
     "output_type": "execute_result"
    }
   ],
   "source": [
    "searchDB('haha')"
   ]
  },
  {
   "cell_type": "code",
   "execution_count": null,
   "metadata": {},
   "outputs": [],
   "source": []
  },
  {
   "cell_type": "code",
   "execution_count": null,
   "metadata": {},
   "outputs": [],
   "source": []
  }
 ],
 "metadata": {
  "kernelspec": {
   "display_name": "Python 3",
   "language": "python",
   "name": "python3"
  },
  "language_info": {
   "codemirror_mode": {
    "name": "ipython",
    "version": 3
   },
   "file_extension": ".py",
   "mimetype": "text/x-python",
   "name": "python",
   "nbconvert_exporter": "python",
   "pygments_lexer": "ipython3",
   "version": "3.7.6"
  }
 },
 "nbformat": 4,
 "nbformat_minor": 4
}
