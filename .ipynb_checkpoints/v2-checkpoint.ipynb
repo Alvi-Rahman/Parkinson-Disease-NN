{
 "cells": [
  {
   "cell_type": "code",
   "execution_count": 1,
   "metadata": {},
   "outputs": [],
   "source": [
    "import numpy as np\n",
    "import pandas as pd"
   ]
  },
  {
   "cell_type": "code",
   "execution_count": 2,
   "metadata": {},
   "outputs": [],
   "source": [
    "data = pd.read_excel('fMRIParkinson_9_29_2019.xlsx')"
   ]
  },
  {
   "cell_type": "code",
   "execution_count": 3,
   "metadata": {},
   "outputs": [
    {
     "data": {
      "text/html": [
       "<div>\n",
       "<style scoped>\n",
       "    .dataframe tbody tr th:only-of-type {\n",
       "        vertical-align: middle;\n",
       "    }\n",
       "\n",
       "    .dataframe tbody tr th {\n",
       "        vertical-align: top;\n",
       "    }\n",
       "\n",
       "    .dataframe thead th {\n",
       "        text-align: right;\n",
       "    }\n",
       "</style>\n",
       "<table border=\"1\" class=\"dataframe\">\n",
       "  <thead>\n",
       "    <tr style=\"text-align: right;\">\n",
       "      <th></th>\n",
       "      <th>Image Data ID</th>\n",
       "      <th>Subject</th>\n",
       "      <th>Group</th>\n",
       "      <th>Sex</th>\n",
       "      <th>Age</th>\n",
       "      <th>Visit</th>\n",
       "      <th>Modality</th>\n",
       "      <th>Description</th>\n",
       "      <th>Type</th>\n",
       "      <th>Acq Date</th>\n",
       "      <th>Format</th>\n",
       "      <th>Downloaded</th>\n",
       "    </tr>\n",
       "  </thead>\n",
       "  <tbody>\n",
       "    <tr>\n",
       "      <th>0</th>\n",
       "      <td>643420</td>\n",
       "      <td>85242</td>\n",
       "      <td>Prodromal</td>\n",
       "      <td>M</td>\n",
       "      <td>65</td>\n",
       "      <td>5</td>\n",
       "      <td>fMRI</td>\n",
       "      <td>ep2d_bold_rest</td>\n",
       "      <td>Original</td>\n",
       "      <td>2016-02-03</td>\n",
       "      <td>DCM</td>\n",
       "      <td>2019-09-26</td>\n",
       "    </tr>\n",
       "    <tr>\n",
       "      <th>1</th>\n",
       "      <td>482357</td>\n",
       "      <td>85242</td>\n",
       "      <td>Prodromal</td>\n",
       "      <td>M</td>\n",
       "      <td>64</td>\n",
       "      <td>1</td>\n",
       "      <td>fMRI</td>\n",
       "      <td>ep2d_bold_rest</td>\n",
       "      <td>Original</td>\n",
       "      <td>2015-02-18</td>\n",
       "      <td>DCM</td>\n",
       "      <td>2019-09-26</td>\n",
       "    </tr>\n",
       "    <tr>\n",
       "      <th>2</th>\n",
       "      <td>951928</td>\n",
       "      <td>85242</td>\n",
       "      <td>Prodromal</td>\n",
       "      <td>M</td>\n",
       "      <td>66</td>\n",
       "      <td>7</td>\n",
       "      <td>fMRI</td>\n",
       "      <td>ep2d_bold_rest</td>\n",
       "      <td>Original</td>\n",
       "      <td>2017-02-08</td>\n",
       "      <td>DCM</td>\n",
       "      <td>2019-09-26</td>\n",
       "    </tr>\n",
       "    <tr>\n",
       "      <th>3</th>\n",
       "      <td>497281</td>\n",
       "      <td>85236</td>\n",
       "      <td>Prodromal</td>\n",
       "      <td>M</td>\n",
       "      <td>67</td>\n",
       "      <td>90</td>\n",
       "      <td>fMRI</td>\n",
       "      <td>ep2d_bold_rest</td>\n",
       "      <td>Original</td>\n",
       "      <td>2015-04-15</td>\n",
       "      <td>DCM</td>\n",
       "      <td>2019-09-26</td>\n",
       "    </tr>\n",
       "    <tr>\n",
       "      <th>4</th>\n",
       "      <td>643414</td>\n",
       "      <td>85236</td>\n",
       "      <td>Prodromal</td>\n",
       "      <td>M</td>\n",
       "      <td>68</td>\n",
       "      <td>7</td>\n",
       "      <td>fMRI</td>\n",
       "      <td>ep2d_bold_rest</td>\n",
       "      <td>Original</td>\n",
       "      <td>2016-01-13</td>\n",
       "      <td>DCM</td>\n",
       "      <td>2019-09-26</td>\n",
       "    </tr>\n",
       "  </tbody>\n",
       "</table>\n",
       "</div>"
      ],
      "text/plain": [
       "   Image Data ID Subject      Group Sex  Age  Visit Modality     Description  \\\n",
       "0         643420   85242  Prodromal   M   65      5     fMRI  ep2d_bold_rest   \n",
       "1         482357   85242  Prodromal   M   64      1     fMRI  ep2d_bold_rest   \n",
       "2         951928   85242  Prodromal   M   66      7     fMRI  ep2d_bold_rest   \n",
       "3         497281   85236  Prodromal   M   67     90     fMRI  ep2d_bold_rest   \n",
       "4         643414   85236  Prodromal   M   68      7     fMRI  ep2d_bold_rest   \n",
       "\n",
       "       Type   Acq Date Format Downloaded  \n",
       "0  Original 2016-02-03    DCM 2019-09-26  \n",
       "1  Original 2015-02-18    DCM 2019-09-26  \n",
       "2  Original 2017-02-08    DCM 2019-09-26  \n",
       "3  Original 2015-04-15    DCM 2019-09-26  \n",
       "4  Original 2016-01-13    DCM 2019-09-26  "
      ]
     },
     "execution_count": 3,
     "metadata": {},
     "output_type": "execute_result"
    }
   ],
   "source": [
    "data.head()"
   ]
  },
  {
   "cell_type": "code",
   "execution_count": 4,
   "metadata": {},
   "outputs": [
    {
     "data": {
      "text/html": [
       "<div>\n",
       "<style scoped>\n",
       "    .dataframe tbody tr th:only-of-type {\n",
       "        vertical-align: middle;\n",
       "    }\n",
       "\n",
       "    .dataframe tbody tr th {\n",
       "        vertical-align: top;\n",
       "    }\n",
       "\n",
       "    .dataframe thead th {\n",
       "        text-align: right;\n",
       "    }\n",
       "</style>\n",
       "<table border=\"1\" class=\"dataframe\">\n",
       "  <thead>\n",
       "    <tr style=\"text-align: right;\">\n",
       "      <th></th>\n",
       "      <th>Image Data ID</th>\n",
       "      <th>Subject</th>\n",
       "      <th>Group</th>\n",
       "      <th>Sex</th>\n",
       "      <th>Age</th>\n",
       "      <th>Visit</th>\n",
       "      <th>Modality</th>\n",
       "      <th>Description</th>\n",
       "      <th>Type</th>\n",
       "      <th>Acq Date</th>\n",
       "      <th>Format</th>\n",
       "      <th>Downloaded</th>\n",
       "    </tr>\n",
       "  </thead>\n",
       "  <tbody>\n",
       "    <tr>\n",
       "      <th>3</th>\n",
       "      <td>497281</td>\n",
       "      <td>85236</td>\n",
       "      <td>Prodromal</td>\n",
       "      <td>M</td>\n",
       "      <td>67</td>\n",
       "      <td>90</td>\n",
       "      <td>fMRI</td>\n",
       "      <td>ep2d_bold_rest</td>\n",
       "      <td>Original</td>\n",
       "      <td>2015-04-15</td>\n",
       "      <td>DCM</td>\n",
       "      <td>2019-09-26</td>\n",
       "    </tr>\n",
       "    <tr>\n",
       "      <th>4</th>\n",
       "      <td>643414</td>\n",
       "      <td>85236</td>\n",
       "      <td>Prodromal</td>\n",
       "      <td>M</td>\n",
       "      <td>68</td>\n",
       "      <td>7</td>\n",
       "      <td>fMRI</td>\n",
       "      <td>ep2d_bold_rest</td>\n",
       "      <td>Original</td>\n",
       "      <td>2016-01-13</td>\n",
       "      <td>DCM</td>\n",
       "      <td>2019-09-26</td>\n",
       "    </tr>\n",
       "    <tr>\n",
       "      <th>5</th>\n",
       "      <td>951921</td>\n",
       "      <td>85236</td>\n",
       "      <td>Prodromal</td>\n",
       "      <td>M</td>\n",
       "      <td>69</td>\n",
       "      <td>7</td>\n",
       "      <td>fMRI</td>\n",
       "      <td>ep2d_bold_rest</td>\n",
       "      <td>Original</td>\n",
       "      <td>2017-01-25</td>\n",
       "      <td>DCM</td>\n",
       "      <td>2019-09-26</td>\n",
       "    </tr>\n",
       "  </tbody>\n",
       "</table>\n",
       "</div>"
      ],
      "text/plain": [
       "   Image Data ID Subject      Group Sex  Age  Visit Modality     Description  \\\n",
       "3         497281   85236  Prodromal   M   67     90     fMRI  ep2d_bold_rest   \n",
       "4         643414   85236  Prodromal   M   68      7     fMRI  ep2d_bold_rest   \n",
       "5         951921   85236  Prodromal   M   69      7     fMRI  ep2d_bold_rest   \n",
       "\n",
       "       Type   Acq Date Format Downloaded  \n",
       "3  Original 2015-04-15    DCM 2019-09-26  \n",
       "4  Original 2016-01-13    DCM 2019-09-26  \n",
       "5  Original 2017-01-25    DCM 2019-09-26  "
      ]
     },
     "execution_count": 4,
     "metadata": {},
     "output_type": "execute_result"
    }
   ],
   "source": [
    "data[data['Subject'] == 85236]"
   ]
  },
  {
   "cell_type": "code",
   "execution_count": 5,
   "metadata": {},
   "outputs": [],
   "source": [
    "parkinson = data[(data['Subject'] == 85236) | (data['Subject'] == 85242)]"
   ]
  },
  {
   "cell_type": "code",
   "execution_count": 6,
   "metadata": {},
   "outputs": [
    {
     "data": {
      "text/html": [
       "<div>\n",
       "<style scoped>\n",
       "    .dataframe tbody tr th:only-of-type {\n",
       "        vertical-align: middle;\n",
       "    }\n",
       "\n",
       "    .dataframe tbody tr th {\n",
       "        vertical-align: top;\n",
       "    }\n",
       "\n",
       "    .dataframe thead th {\n",
       "        text-align: right;\n",
       "    }\n",
       "</style>\n",
       "<table border=\"1\" class=\"dataframe\">\n",
       "  <thead>\n",
       "    <tr style=\"text-align: right;\">\n",
       "      <th></th>\n",
       "      <th>Image Data ID</th>\n",
       "      <th>Subject</th>\n",
       "      <th>Group</th>\n",
       "      <th>Sex</th>\n",
       "      <th>Age</th>\n",
       "      <th>Visit</th>\n",
       "      <th>Modality</th>\n",
       "      <th>Description</th>\n",
       "      <th>Type</th>\n",
       "      <th>Acq Date</th>\n",
       "      <th>Format</th>\n",
       "      <th>Downloaded</th>\n",
       "    </tr>\n",
       "  </thead>\n",
       "  <tbody>\n",
       "    <tr>\n",
       "      <th>0</th>\n",
       "      <td>643420</td>\n",
       "      <td>85242</td>\n",
       "      <td>Prodromal</td>\n",
       "      <td>M</td>\n",
       "      <td>65</td>\n",
       "      <td>5</td>\n",
       "      <td>fMRI</td>\n",
       "      <td>ep2d_bold_rest</td>\n",
       "      <td>Original</td>\n",
       "      <td>2016-02-03</td>\n",
       "      <td>DCM</td>\n",
       "      <td>2019-09-26</td>\n",
       "    </tr>\n",
       "    <tr>\n",
       "      <th>1</th>\n",
       "      <td>482357</td>\n",
       "      <td>85242</td>\n",
       "      <td>Prodromal</td>\n",
       "      <td>M</td>\n",
       "      <td>64</td>\n",
       "      <td>1</td>\n",
       "      <td>fMRI</td>\n",
       "      <td>ep2d_bold_rest</td>\n",
       "      <td>Original</td>\n",
       "      <td>2015-02-18</td>\n",
       "      <td>DCM</td>\n",
       "      <td>2019-09-26</td>\n",
       "    </tr>\n",
       "    <tr>\n",
       "      <th>2</th>\n",
       "      <td>951928</td>\n",
       "      <td>85242</td>\n",
       "      <td>Prodromal</td>\n",
       "      <td>M</td>\n",
       "      <td>66</td>\n",
       "      <td>7</td>\n",
       "      <td>fMRI</td>\n",
       "      <td>ep2d_bold_rest</td>\n",
       "      <td>Original</td>\n",
       "      <td>2017-02-08</td>\n",
       "      <td>DCM</td>\n",
       "      <td>2019-09-26</td>\n",
       "    </tr>\n",
       "    <tr>\n",
       "      <th>3</th>\n",
       "      <td>497281</td>\n",
       "      <td>85236</td>\n",
       "      <td>Prodromal</td>\n",
       "      <td>M</td>\n",
       "      <td>67</td>\n",
       "      <td>90</td>\n",
       "      <td>fMRI</td>\n",
       "      <td>ep2d_bold_rest</td>\n",
       "      <td>Original</td>\n",
       "      <td>2015-04-15</td>\n",
       "      <td>DCM</td>\n",
       "      <td>2019-09-26</td>\n",
       "    </tr>\n",
       "    <tr>\n",
       "      <th>4</th>\n",
       "      <td>643414</td>\n",
       "      <td>85236</td>\n",
       "      <td>Prodromal</td>\n",
       "      <td>M</td>\n",
       "      <td>68</td>\n",
       "      <td>7</td>\n",
       "      <td>fMRI</td>\n",
       "      <td>ep2d_bold_rest</td>\n",
       "      <td>Original</td>\n",
       "      <td>2016-01-13</td>\n",
       "      <td>DCM</td>\n",
       "      <td>2019-09-26</td>\n",
       "    </tr>\n",
       "    <tr>\n",
       "      <th>5</th>\n",
       "      <td>951921</td>\n",
       "      <td>85236</td>\n",
       "      <td>Prodromal</td>\n",
       "      <td>M</td>\n",
       "      <td>69</td>\n",
       "      <td>7</td>\n",
       "      <td>fMRI</td>\n",
       "      <td>ep2d_bold_rest</td>\n",
       "      <td>Original</td>\n",
       "      <td>2017-01-25</td>\n",
       "      <td>DCM</td>\n",
       "      <td>2019-09-26</td>\n",
       "    </tr>\n",
       "  </tbody>\n",
       "</table>\n",
       "</div>"
      ],
      "text/plain": [
       "   Image Data ID Subject      Group Sex  Age  Visit Modality     Description  \\\n",
       "0         643420   85242  Prodromal   M   65      5     fMRI  ep2d_bold_rest   \n",
       "1         482357   85242  Prodromal   M   64      1     fMRI  ep2d_bold_rest   \n",
       "2         951928   85242  Prodromal   M   66      7     fMRI  ep2d_bold_rest   \n",
       "3         497281   85236  Prodromal   M   67     90     fMRI  ep2d_bold_rest   \n",
       "4         643414   85236  Prodromal   M   68      7     fMRI  ep2d_bold_rest   \n",
       "5         951921   85236  Prodromal   M   69      7     fMRI  ep2d_bold_rest   \n",
       "\n",
       "       Type   Acq Date Format Downloaded  \n",
       "0  Original 2016-02-03    DCM 2019-09-26  \n",
       "1  Original 2015-02-18    DCM 2019-09-26  \n",
       "2  Original 2017-02-08    DCM 2019-09-26  \n",
       "3  Original 2015-04-15    DCM 2019-09-26  \n",
       "4  Original 2016-01-13    DCM 2019-09-26  \n",
       "5  Original 2017-01-25    DCM 2019-09-26  "
      ]
     },
     "execution_count": 6,
     "metadata": {},
     "output_type": "execute_result"
    }
   ],
   "source": [
    "parkinson"
   ]
  },
  {
   "cell_type": "code",
   "execution_count": 7,
   "metadata": {},
   "outputs": [],
   "source": [
    "import nibabel as nib"
   ]
  },
  {
   "cell_type": "code",
   "execution_count": 8,
   "metadata": {},
   "outputs": [
    {
     "name": "stderr",
     "output_type": "stream",
     "text": [
      "c:\\users\\alvir\\deelearning\\lib\\site-packages\\sklearn\\externals\\joblib\\__init__.py:15: DeprecationWarning: sklearn.externals.joblib is deprecated in 0.21 and will be removed in 0.23. Please import this functionality directly from joblib, which can be installed with: pip install joblib. If this warning is raised when loading pickled models, you may need to re-serialize those models with scikit-learn 0.21+.\n",
      "  warnings.warn(msg, category=DeprecationWarning)\n"
     ]
    }
   ],
   "source": [
    "from nilearn import plotting"
   ]
  },
  {
   "cell_type": "code",
   "execution_count": 9,
   "metadata": {},
   "outputs": [],
   "source": [
    "img = nib.load('C:\\\\Users\\\\alvir\\\\OneDrive\\\\Desktop\\\\fMRI\\\\85236\\\\ep2d_bold_rest\\\\2015-04-15_09_06_54.0\\\\S263136\\\\PPMI_85236_MR_ep2d_bold_rest_br_raw_20150612111231052_112_S263136_I497281.nii')"
   ]
  },
  {
   "cell_type": "code",
   "execution_count": null,
   "metadata": {},
   "outputs": [],
   "source": []
  },
  {
   "cell_type": "code",
   "execution_count": 10,
   "metadata": {},
   "outputs": [],
   "source": [
    "import matplotlib.pyplot as plt\n",
    "\n",
    "%matplotlib inline"
   ]
  },
  {
   "cell_type": "code",
   "execution_count": 11,
   "metadata": {},
   "outputs": [
    {
     "data": {
      "text/plain": [
       "<matplotlib.image.AxesImage at 0x217ce9439b0>"
      ]
     },
     "execution_count": 11,
     "metadata": {},
     "output_type": "execute_result"
    },
    {
     "data": {
      "image/png": "[encoded data removed]",
      "text/plain": [
       "<Figure size 432x288 with 1 Axes>"
      ]
     },
     "metadata": {
      "needs_background": "light"
     },
     "output_type": "display_data"
    }
   ],
   "source": [
    "plt.imshow((np.array(img.dataobj)[:,:,47,0]))"
   ]
  },
  {
   "cell_type": "code",
   "execution_count": 15,
   "metadata": {},
   "outputs": [],
   "source": [
    "plotting.plot_epi(img,output_file='haha.png')"
   ]
  },
  {
   "cell_type": "code",
   "execution_count": 19,
   "metadata": {},
   "outputs": [],
   "source": [
    "from PIL import Image"
   ]
  },
  {
   "cell_type": "code",
   "execution_count": 20,
   "metadata": {},
   "outputs": [],
   "source": [
    "im = Image.open(r\"haha.png\")"
   ]
  },
  {
   "cell_type": "code",
   "execution_count": 24,
   "metadata": {},
   "outputs": [
    {
     "data": {
      "text/plain": [
       "(475, 187)"
      ]
     },
     "execution_count": 24,
     "metadata": {},
     "output_type": "execute_result"
    }
   ],
   "source": [
    "im.size"
   ]
  },
  {
   "cell_type": "code",
   "execution_count": 23,
   "metadata": {},
   "outputs": [
    {
     "data": {
      "text/plain": [
       "<matplotlib.image.AxesImage at 0x217d0411be0>"
      ]
     },
     "execution_count": 23,
     "metadata": {},
     "output_type": "execute_result"
    },
    {
     "data": {
      "image/png": "[encoded data removed]",
      "text/plain": [
       "<Figure size 432x288 with 1 Axes>"
      ]
     },
     "metadata": {
      "needs_background": "light"
     },
     "output_type": "display_data"
    }
   ],
   "source": [
    "plt.imshow(im)"
   ]
  },
  {
   "cell_type": "code",
   "execution_count": 26,
   "metadata": {},
   "outputs": [],
   "source": [
    "width, height = im.size \n",
    "\n",
    "height"
   ]
  },
  {
   "cell_type": "code",
   "execution_count": null,
   "metadata": {},
   "outputs": [],
   "source": []
  },
  {
   "cell_type": "code",
   "execution_count": 45,
   "metadata": {},
   "outputs": [
    {
     "data": {
      "image/png": "[encoded data removed]",
      "text/plain": [
       "<Figure size 432x288 with 1 Axes>"
      ]
     },
     "metadata": {
      "needs_background": "light"
     },
     "output_type": "display_data"
    },
    {
     "data": {
      "image/png": "[encoded data removed]",
      "text/plain": [
       "<Figure size 432x288 with 1 Axes>"
      ]
     },
     "metadata": {
      "needs_background": "light"
     },
     "output_type": "display_data"
    },
    {
     "data": {
      "image/png": "[encoded data removed]",
      "text/plain": [
       "<Figure size 432x288 with 1 Axes>"
      ]
     },
     "metadata": {
      "needs_background": "light"
     },
     "output_type": "display_data"
    }
   ],
   "source": [
    "width, height = im.size \n",
    "left1 = 0\n",
    "top1 = height / 4\n",
    "right1 = int(width/3)\n",
    "bottom1 = 3 * height / 4\n",
    "  \n",
    "im1 = im.crop((left1, top1, right1, bottom1)) \n",
    "\n",
    "plt.imshow(im1)\n",
    "plt.show()\n",
    "\n",
    "#===========================================================\n",
    "\n",
    "\n",
    "left2 = right1\n",
    "top2 = height / 4\n",
    "right2 = int(width/3 * 2)\n",
    "bottom2 = 3 * height / 4\n",
    "\n",
    "im1 = im.crop((left2, top2, right2, bottom2)) \n",
    "\n",
    "plt.imshow(im1)\n",
    "plt.show()\n",
    "\n",
    "#==========================================================\n",
    "\n",
    "\n",
    "left3 = right2\n",
    "top3 = height / 4\n",
    "right3 = int(width-1)\n",
    "bottom3 = 3 * height / 4\n",
    "\n",
    "im1 = im.crop((left3, top3, right3, bottom3)) \n",
    "\n",
    "plt.imshow(im1)\n",
    "plt.show()"
   ]
  },
  {
   "cell_type": "code",
   "execution_count": null,
   "metadata": {},
   "outputs": [],
   "source": []
  },
  {
   "cell_type": "code",
   "execution_count": null,
   "metadata": {},
   "outputs": [],
   "source": []
  },
  {
   "cell_type": "code",
   "execution_count": null,
   "metadata": {},
   "outputs": [],
   "source": []
  },
  {
   "cell_type": "code",
   "execution_count": null,
   "metadata": {},
   "outputs": [],
   "source": []
  },
  {
   "cell_type": "code",
   "execution_count": null,
   "metadata": {},
   "outputs": [],
   "source": []
  },
  {
   "cell_type": "code",
   "execution_count": null,
   "metadata": {},
   "outputs": [],
   "source": []
  },
  {
   "cell_type": "code",
   "execution_count": null,
   "metadata": {},
   "outputs": [],
   "source": []
  },
  {
   "cell_type": "code",
   "execution_count": null,
   "metadata": {},
   "outputs": [],
   "source": []
  },
  {
   "cell_type": "code",
   "execution_count": null,
   "metadata": {},
   "outputs": [],
   "source": []
  },
  {
   "cell_type": "code",
   "execution_count": null,
   "metadata": {},
   "outputs": [],
   "source": []
  },
  {
   "cell_type": "code",
   "execution_count": 12,
   "metadata": {},
   "outputs": [
    {
     "data": {
      "text/plain": [
       "<nilearn.plotting.displays.OrthoSlicer at 0x2945d1350b8>"
      ]
     },
     "execution_count": 12,
     "metadata": {},
     "output_type": "execute_result"
    },
    {
     "data": {
      "image/png": "[encoded data removed]",
      "text/plain": [
       "<Figure size 475.2x187.2 with 4 Axes>"
      ]
     },
     "metadata": {},
     "output_type": "display_data"
    }
   ],
   "source": [
    "plotting.plot_roi(img)"
   ]
  },
  {
   "cell_type": "code",
   "execution_count": 46,
   "metadata": {},
   "outputs": [],
   "source": [
    "from nilearn import image"
   ]
  },
  {
   "cell_type": "code",
   "execution_count": 47,
   "metadata": {},
   "outputs": [],
   "source": [
    "import os"
   ]
  },
  {
   "cell_type": "code",
   "execution_count": 49,
   "metadata": {},
   "outputs": [],
   "source": [
    "path_42_2015 = 'C:\\\\Users\\\\alvir\\\\OneDrive\\\\Desktop\\\\fMRI\\85242\\\\ep2d_bold_rest\\\\2015-02-18_10_24_17.0\\\\S254437\\\\'\n",
    "\n",
    "data_42_2015 = []\n",
    "for files in os.listdir(path_42_2015):\n",
    "    data_42_2015.append(path_42_2015+str(files))"
   ]
  },
  {
   "cell_type": "code",
   "execution_count": 50,
   "metadata": {},
   "outputs": [],
   "source": [
    "path_42_2016 = 'C:\\\\Users\\\\alvir\\\\OneDrive\\\\Desktop\\\\fMRI\\\\85242\\\\ep2d_bold_rest\\\\2016-02-03_11_21_54.0\\\\S385588\\\\'\n",
    "\n",
    "data_42_2016 = []\n",
    "for files in os.listdir(path_42_2016):\n",
    "    data_42_2016.append(path_42_2016+str(files))"
   ]
  },
  {
   "cell_type": "code",
   "execution_count": 51,
   "metadata": {},
   "outputs": [],
   "source": [
    "path_42_2017 = 'C:\\\\Users\\\\alvir\\\\OneDrive\\\\Desktop\\\\fMRI\\\\85242\\\\ep2d_bold_rest\\\\2017-02-08_11_12_15.0\\\\S649091\\\\'\n",
    "\n",
    "data_42_2017 = []\n",
    "for files in os.listdir(path_42_2017):\n",
    "    data_42_2017.append(path_42_2017+str(files))"
   ]
  },
  {
   "cell_type": "code",
   "execution_count": null,
   "metadata": {},
   "outputs": [],
   "source": []
  },
  {
   "cell_type": "code",
   "execution_count": 52,
   "metadata": {},
   "outputs": [],
   "source": [
    "i = 0\n",
    "for img in image.iter_img(data_42_2015):\n",
    "    # img is now an in-memory 3D img\n",
    "    name = '2015_42_'+str(i)\n",
    "    plotting.plot_epi(img,output_file='new_image\\\\data_42\\\\2015\\\\'+name+'.png')\n",
    "    #plotting.show()\n",
    "    i+=1\n",
    "    "
   ]
  },
  {
   "cell_type": "code",
   "execution_count": 53,
   "metadata": {},
   "outputs": [],
   "source": [
    "i = 0\n",
    "for img in image.iter_img(data_42_2016):\n",
    "    # img is now an in-memory 3D img\n",
    "    name = '2016_42_'+str(i)\n",
    "    plotting.plot_epi(img,output_file='new_image\\\\data_42\\\\2016\\\\'+name+'.png')\n",
    "    #plotting.show()\n",
    "    i+=1\n",
    "    "
   ]
  },
  {
   "cell_type": "code",
   "execution_count": 54,
   "metadata": {},
   "outputs": [],
   "source": [
    "i = 0\n",
    "for img in image.iter_img(data_42_2017):\n",
    "    # img is now an in-memory 3D img\n",
    "    name = '2017_42_'+str(i)\n",
    "    plotting.plot_epi(img,output_file='new_image\\\\data_42\\\\2017\\\\'+name+'.png')\n",
    "    #plotting.show()\n",
    "    i+=1\n",
    "    "
   ]
  },
  {
   "cell_type": "code",
   "execution_count": null,
   "metadata": {},
   "outputs": [],
   "source": []
  },
  {
   "cell_type": "code",
   "execution_count": 25,
   "metadata": {},
   "outputs": [],
   "source": [
    "#==========================="
   ]
  },
  {
   "cell_type": "code",
   "execution_count": null,
   "metadata": {},
   "outputs": [],
   "source": []
  },
  {
   "cell_type": "code",
   "execution_count": 55,
   "metadata": {},
   "outputs": [],
   "source": [
    "path_36_2015 = 'C:\\\\Users\\\\alvir\\\\OneDrive\\\\Desktop\\\\fMRI\\85236\\\\ep2d_bold_rest\\\\2015-04-15_09_06_54.0\\\\S263136\\\\'\n",
    "\n",
    "data_36_2015 = []\n",
    "for files in os.listdir(path_36_2015):\n",
    "    data_36_2015.append(path_36_2015+str(files))"
   ]
  },
  {
   "cell_type": "code",
   "execution_count": 56,
   "metadata": {},
   "outputs": [],
   "source": [
    "path_36_2016 = 'C:\\\\Users\\\\alvir\\\\OneDrive\\\\Desktop\\\\fMRI\\\\85236\\\\ep2d_bold_rest\\\\2016-01-13_10_41_58.0\\\\S385583\\\\'\n",
    "\n",
    "data_36_2016 = []\n",
    "for files in os.listdir(path_36_2016):\n",
    "    data_36_2016.append(path_36_2016+str(files))"
   ]
  },
  {
   "cell_type": "code",
   "execution_count": 57,
   "metadata": {},
   "outputs": [],
   "source": [
    "path_36_2017 = 'C:\\\\Users\\\\alvir\\\\OneDrive\\\\Desktop\\\\fMRI\\\\85236\\\\ep2d_bold_rest\\\\2017-01-25_11_33_53.0\\\\S649085\\\\'\n",
    "\n",
    "data_36_2017 = []\n",
    "for files in os.listdir(path_36_2017):\n",
    "    data_36_2017.append(path_36_2017+str(files))"
   ]
  },
  {
   "cell_type": "code",
   "execution_count": null,
   "metadata": {},
   "outputs": [],
   "source": []
  },
  {
   "cell_type": "code",
   "execution_count": null,
   "metadata": {},
   "outputs": [],
   "source": []
  },
  {
   "cell_type": "code",
   "execution_count": 58,
   "metadata": {},
   "outputs": [],
   "source": [
    "i = 0\n",
    "for img in image.iter_img(data_36_2015):\n",
    "    # img is now an in-memory 3D img\n",
    "    name = '2015_36_'+str(i)\n",
    "    plotting.plot_epi(img,output_file='new_image\\\\data_36\\\\2015\\\\'+name+'.png')\n",
    "    #plotting.show()\n",
    "    i+=1\n",
    "    "
   ]
  },
  {
   "cell_type": "code",
   "execution_count": 59,
   "metadata": {},
   "outputs": [],
   "source": [
    "i = 0\n",
    "for img in image.iter_img(data_36_2016):\n",
    "    # img is now an in-memory 3D img\n",
    "    name = '2016_36_'+str(i)\n",
    "    plotting.plot_epi(img,output_file='new_image\\\\data_36\\\\2016\\\\'+name+'.png')\n",
    "    #plotting.show()\n",
    "    i+=1\n",
    "    "
   ]
  },
  {
   "cell_type": "code",
   "execution_count": 60,
   "metadata": {},
   "outputs": [],
   "source": [
    "i = 0\n",
    "for img in image.iter_img(data_36_2017):\n",
    "    # img is now an in-memory 3D img\n",
    "    name = '2017_36_'+str(i)\n",
    "    plotting.plot_epi(img,output_file='new_image\\\\data_36\\\\2017\\\\'+name+'.png')\n",
    "    #plotting.show()\n",
    "    i+=1\n",
    "    "
   ]
  },
  {
   "cell_type": "code",
   "execution_count": null,
   "metadata": {},
   "outputs": [],
   "source": []
  },
  {
   "cell_type": "code",
   "execution_count": null,
   "metadata": {},
   "outputs": [],
   "source": []
  },
  {
   "cell_type": "code",
   "execution_count": 70,
   "metadata": {},
   "outputs": [],
   "source": [
    "def crop_img(im,name,path):\n",
    "    width, height = im.size \n",
    "    left1 = 0\n",
    "    top1 = height / 4\n",
    "    right1 = int(width/3)\n",
    "    bottom1 = 3 * height / 4\n",
    "\n",
    "    im1 = im.crop((left1, top1, right1, bottom1))\n",
    "    \n",
    "    \n",
    "    n = path+name+str(1)+'.png' \n",
    "    im1.save(n)\n",
    "    #plt.imshow(im1)\n",
    "    #plt.show()\n",
    "\n",
    "    #===========================================================\n",
    "\n",
    "\n",
    "    left2 = right1\n",
    "    top2 = height / 4\n",
    "    right2 = int(width/3 * 2)\n",
    "    bottom2 = 3 * height / 4\n",
    "\n",
    "    im1 = im.crop((left2, top2, right2, bottom2)) \n",
    "    \n",
    "    n = path+name+str(2)+'.png' \n",
    "    im1.save(n)\n",
    "\n",
    "    #plt.imshow(im1)\n",
    "    #plt.show()\n",
    "\n",
    "    #==========================================================\n",
    "\n",
    "\n",
    "    left3 = right2\n",
    "    top3 = height / 4\n",
    "    right3 = int(width-1)\n",
    "    bottom3 = 3 * height / 4\n",
    "\n",
    "    im1 = im.crop((left3, top3, right3, bottom3))\n",
    "    \n",
    "    n = path+name+str(3)+'.png' \n",
    "    im1.save(n)\n",
    "\n",
    "    #plt.imshow(im1)\n",
    "    #plt.show()"
   ]
  },
  {
   "cell_type": "code",
   "execution_count": null,
   "metadata": {},
   "outputs": [],
   "source": []
  },
  {
   "cell_type": "code",
   "execution_count": 69,
   "metadata": {},
   "outputs": [],
   "source": [
    "im1.save('image_v2\\\\36\\\\'+str(1)+'.png')"
   ]
  },
  {
   "cell_type": "code",
   "execution_count": null,
   "metadata": {},
   "outputs": [],
   "source": []
  },
  {
   "cell_type": "code",
   "execution_count": null,
   "metadata": {},
   "outputs": [],
   "source": []
  },
  {
   "cell_type": "code",
   "execution_count": null,
   "metadata": {},
   "outputs": [],
   "source": []
  }
 ],
 "metadata": {
  "kernelspec": {
   "display_name": "Python 3",
   "language": "python",
   "name": "python3"
  },
  "language_info": {
   "codemirror_mode": {
    "name": "ipython",
    "version": 3
   },
   "file_extension": ".py",
   "mimetype": "text/x-python",
   "name": "python",
   "nbconvert_exporter": "python",
   "pygments_lexer": "ipython3",
   "version": "3.7.3"
  }
 },
 "nbformat": 4,
 "nbformat_minor": 2
}
